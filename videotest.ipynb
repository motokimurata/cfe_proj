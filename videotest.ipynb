{
 "cells": [
  {
   "cell_type": "code",
   "execution_count": 9,
   "metadata": {},
   "outputs": [],
   "source": [
    "import imutils\n",
    "import numpy as np\n",
    "import cv2\n",
    "import os\n",
    "import tkinter, tkinter.filedialog, tkinter.messagebox\n",
    "from assets.split_beans import detect_contour\n",
    "from assets.getpath import getDataSet"
   ]
  },
  {
   "cell_type": "code",
   "execution_count": 10,
   "metadata": {},
   "outputs": [
    {
     "name": "stderr",
     "output_type": "stream",
     "text": [
      "[h264 @ 0x55f92ee65a80] co located POCs unavailable\n"
     ]
    }
   ],
   "source": [
    "# VideoCaptureをオープン\n",
    "cap = cv2.VideoCapture('rtsp://192.168.11.12/')"
   ]
  },
  {
   "cell_type": "code",
   "execution_count": 11,
   "metadata": {},
   "outputs": [],
   "source": [
    "# モデルを読み込む\n",
    "prototxt = 'deploy.prototxt'\n",
    "model = 'res10_300x300_ssd_iter_140000.caffemodel'\n",
    "net = cv2.dnn.readNetFromCaffe(prototxt, model)"
   ]
  },
  {
   "cell_type": "code",
   "execution_count": 12,
   "metadata": {},
   "outputs": [
    {
     "name": "stderr",
     "output_type": "stream",
     "text": [
      "[h264 @ 0x55f92ee54800] co located POCs unavailable\n",
      "[h264 @ 0x55f92f0a9080] co located POCs unavailable\n",
      "[h264 @ 0x55f92ef54b40] co located POCs unavailable\n",
      "[h264 @ 0x55f92ee54800] error while decoding MB 38 28, bytestream -5\n",
      "[h264 @ 0x55f92f0a9080] co located POCs unavailable\n",
      "[h264 @ 0x55f92ee284c0] left block unavailable for requested intra4x4 mode -1\n",
      "[h264 @ 0x55f92ee284c0] error while decoding MB 0 31, bytestream 591\n"
     ]
    }
   ],
   "source": [
    "# カメラ画像を読み込み，顔検出して表示するループ\n",
    "while True:\n",
    "    ret, frame = cap.read()\n",
    "\n",
    "    # カメラ画像を幅400pxにリサイズ\n",
    "    img = imutils.resize(frame, width=400)\n",
    "    (h, w) = img.shape[:2]\n",
    "    blob = cv2.dnn.blobFromImage(cv2.resize(img, (300, 300)), 1.0, (300, 300), (104.0, 177.0, 123.0))\n",
    "\n",
    "    # 物体検出器にblobを適用する\n",
    "    net.setInput(blob)\n",
    "    detections = net.forward()\n",
    "\n",
    "    for i in range(0, detections.shape[2]):\n",
    "        # ネットワークが出力したconfidenceの値を抽出する\n",
    "        confidence = detections[0, 0, i, 2]\n",
    "        # confidenceの値が0.5以上の領域のみを検出結果として描画する\n",
    "        if confidence > 0.5:\n",
    "            # 対象領域のバウンディングボックスの座標を計算する\n",
    "            box = detections[0, 0, i, 3:7] * np.array([w, h, w, h])\n",
    "            (startX, startY, endX, endY) = box.astype(\"int\")\n",
    "            # バウンディングボックスとconfidenceの値を描画する\n",
    "         \n",
    "            text = \"{:.2f}%\".format(confidence * 100)\n",
    "            y = startY - 10 if startY - 10 > 10 else startY + 10\n",
    "            cv2.rectangle(img, (startX, startY), (endX, endY), (0, 0, 255), 2)\n",
    "            cv2.putText(img, text, (startX, y),\n",
    "                cv2.FONT_HERSHEY_SIMPLEX, 0.45, (0, 0, 255), 2)\n",
    "\n",
    "    cv2.imshow(\"Face Detection\", img)\n",
    "    k = cv2.waitKey(1)&0xff\n",
    "    if k == ord('s'):\n",
    "        cv2.imwrite(\"./output.jpg\", img) # ファイル保存\n",
    "    elif k == ord('q'):\n",
    "        break\n",
    "\n",
    "cap.release()\n",
    "cv2.destroyAllWindows()"
   ]
  },
  {
   "cell_type": "code",
   "execution_count": null,
   "metadata": {},
   "outputs": [],
   "source": []
  }
 ],
 "metadata": {
  "interpreter": {
   "hash": "2563e219f7bbda59ebdecc528971c0ea60f2bd38ddfa9d22f614e26b96c30d36"
  },
  "kernelspec": {
   "display_name": "Python 3.8.12 ('env03_cfe-39tSMQVF')",
   "language": "python",
   "name": "python3"
  },
  "language_info": {
   "codemirror_mode": {
    "name": "ipython",
    "version": 3
   },
   "file_extension": ".py",
   "mimetype": "text/x-python",
   "name": "python",
   "nbconvert_exporter": "python",
   "pygments_lexer": "ipython3",
   "version": "3.8.12"
  },
  "orig_nbformat": 4
 },
 "nbformat": 4,
 "nbformat_minor": 2
}
