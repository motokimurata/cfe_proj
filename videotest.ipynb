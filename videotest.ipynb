{
 "cells": [
  {
   "cell_type": "code",
   "execution_count": 19,
   "metadata": {},
   "outputs": [],
   "source": [
    "import imutils\n",
    "import numpy as np\n",
    "import cv2"
   ]
  },
  {
   "cell_type": "code",
   "execution_count": 20,
   "metadata": {},
   "outputs": [],
   "source": [
    "# VideoCaptureをオープン\n",
    "cap = cv2.VideoCapture('rstp://192.168.11.12:554')"
   ]
  },
  {
   "cell_type": "code",
   "execution_count": 21,
   "metadata": {},
   "outputs": [],
   "source": [
    "# モデルを読み込む\n",
    "prototxt = 'deploy.prototxt'\n",
    "model = 'res10_300x300_ssd_iter_140000.caffemodel'\n",
    "net = cv2.dnn.readNetFromCaffe(prototxt, model)"
   ]
  },
  {
   "cell_type": "code",
   "execution_count": 22,
   "metadata": {},
   "outputs": [
    {
     "ename": "AttributeError",
     "evalue": "'NoneType' object has no attribute 'shape'",
     "output_type": "error",
     "traceback": [
      "\u001b[0;31m---------------------------------------------------------------------------\u001b[0m",
      "\u001b[0;31mAttributeError\u001b[0m                            Traceback (most recent call last)",
      "\u001b[1;32m/home/motoki/env03_cfe/videotest.ipynb Cell 4'\u001b[0m in \u001b[0;36m<module>\u001b[0;34m\u001b[0m\n\u001b[1;32m      <a href='vscode-notebook-cell://wsl%2Bdebian/home/motoki/env03_cfe/videotest.ipynb#ch0000003vscode-remote?line=2'>3</a>\u001b[0m ret, frame \u001b[39m=\u001b[39m cap\u001b[39m.\u001b[39mread()\n\u001b[1;32m      <a href='vscode-notebook-cell://wsl%2Bdebian/home/motoki/env03_cfe/videotest.ipynb#ch0000003vscode-remote?line=4'>5</a>\u001b[0m \u001b[39m# カメラ画像を幅400pxにリサイズ\u001b[39;00m\n\u001b[0;32m----> <a href='vscode-notebook-cell://wsl%2Bdebian/home/motoki/env03_cfe/videotest.ipynb#ch0000003vscode-remote?line=5'>6</a>\u001b[0m img \u001b[39m=\u001b[39m imutils\u001b[39m.\u001b[39;49mresize(frame, width\u001b[39m=\u001b[39;49m\u001b[39m400\u001b[39;49m)\n\u001b[1;32m      <a href='vscode-notebook-cell://wsl%2Bdebian/home/motoki/env03_cfe/videotest.ipynb#ch0000003vscode-remote?line=6'>7</a>\u001b[0m (h, w) \u001b[39m=\u001b[39m img\u001b[39m.\u001b[39mshape[:\u001b[39m2\u001b[39m]\n\u001b[1;32m      <a href='vscode-notebook-cell://wsl%2Bdebian/home/motoki/env03_cfe/videotest.ipynb#ch0000003vscode-remote?line=7'>8</a>\u001b[0m blob \u001b[39m=\u001b[39m cv2\u001b[39m.\u001b[39mdnn\u001b[39m.\u001b[39mblobFromImage(cv2\u001b[39m.\u001b[39mresize(img, (\u001b[39m300\u001b[39m, \u001b[39m300\u001b[39m)), \u001b[39m1.0\u001b[39m, (\u001b[39m300\u001b[39m, \u001b[39m300\u001b[39m), (\u001b[39m104.0\u001b[39m, \u001b[39m177.0\u001b[39m, \u001b[39m123.0\u001b[39m))\n",
      "File \u001b[0;32m~/.local/share/virtualenvs/env03_cfe-39tSMQVF/lib/python3.8/site-packages/imutils/convenience.py:69\u001b[0m, in \u001b[0;36mresize\u001b[0;34m(image, width, height, inter)\u001b[0m\n\u001b[1;32m     <a href='file:///~/.local/share/virtualenvs/env03_cfe-39tSMQVF/lib/python3.8/site-packages/imutils/convenience.py?line=64'>65</a>\u001b[0m \u001b[39mdef\u001b[39;00m \u001b[39mresize\u001b[39m(image, width\u001b[39m=\u001b[39m\u001b[39mNone\u001b[39;00m, height\u001b[39m=\u001b[39m\u001b[39mNone\u001b[39;00m, inter\u001b[39m=\u001b[39mcv2\u001b[39m.\u001b[39mINTER_AREA):\n\u001b[1;32m     <a href='file:///~/.local/share/virtualenvs/env03_cfe-39tSMQVF/lib/python3.8/site-packages/imutils/convenience.py?line=65'>66</a>\u001b[0m     \u001b[39m# initialize the dimensions of the image to be resized and\u001b[39;00m\n\u001b[1;32m     <a href='file:///~/.local/share/virtualenvs/env03_cfe-39tSMQVF/lib/python3.8/site-packages/imutils/convenience.py?line=66'>67</a>\u001b[0m     \u001b[39m# grab the image size\u001b[39;00m\n\u001b[1;32m     <a href='file:///~/.local/share/virtualenvs/env03_cfe-39tSMQVF/lib/python3.8/site-packages/imutils/convenience.py?line=67'>68</a>\u001b[0m     dim \u001b[39m=\u001b[39m \u001b[39mNone\u001b[39;00m\n\u001b[0;32m---> <a href='file:///~/.local/share/virtualenvs/env03_cfe-39tSMQVF/lib/python3.8/site-packages/imutils/convenience.py?line=68'>69</a>\u001b[0m     (h, w) \u001b[39m=\u001b[39m image\u001b[39m.\u001b[39;49mshape[:\u001b[39m2\u001b[39m]\n\u001b[1;32m     <a href='file:///~/.local/share/virtualenvs/env03_cfe-39tSMQVF/lib/python3.8/site-packages/imutils/convenience.py?line=70'>71</a>\u001b[0m     \u001b[39m# if both the width and height are None, then return the\u001b[39;00m\n\u001b[1;32m     <a href='file:///~/.local/share/virtualenvs/env03_cfe-39tSMQVF/lib/python3.8/site-packages/imutils/convenience.py?line=71'>72</a>\u001b[0m     \u001b[39m# original image\u001b[39;00m\n\u001b[1;32m     <a href='file:///~/.local/share/virtualenvs/env03_cfe-39tSMQVF/lib/python3.8/site-packages/imutils/convenience.py?line=72'>73</a>\u001b[0m     \u001b[39mif\u001b[39;00m width \u001b[39mis\u001b[39;00m \u001b[39mNone\u001b[39;00m \u001b[39mand\u001b[39;00m height \u001b[39mis\u001b[39;00m \u001b[39mNone\u001b[39;00m:\n",
      "\u001b[0;31mAttributeError\u001b[0m: 'NoneType' object has no attribute 'shape'"
     ]
    }
   ],
   "source": [
    "# カメラ画像を読み込み，顔検出して表示するループ\n",
    "while True:\n",
    "    ret, frame = cap.read()\n",
    "\n",
    "    # カメラ画像を幅400pxにリサイズ\n",
    "    img = imutils.resize(frame, width=400)\n",
    "    (h, w) = img.shape[:2]\n",
    "    blob = cv2.dnn.blobFromImage(cv2.resize(img, (300, 300)), 1.0, (300, 300), (104.0, 177.0, 123.0))\n",
    "\n",
    "    # 物体検出器にblobを適用する\n",
    "    net.setInput(blob)\n",
    "    detections = net.forward()\n",
    "\n",
    "    for i in range(0, detections.shape[2]):\n",
    "        # ネットワークが出力したconfidenceの値を抽出する\n",
    "        confidence = detections[0, 0, i, 2]\n",
    "        # confidenceの値が0.5以上の領域のみを検出結果として描画する\n",
    "        if confidence > 0.5:\n",
    "            # 対象領域のバウンディングボックスの座標を計算する\n",
    "            box = detections[0, 0, i, 3:7] * np.array([w, h, w, h])\n",
    "            (startX, startY, endX, endY) = box.astype(\"int\")\n",
    "            # バウンディングボックスとconfidenceの値を描画する\n",
    "            text = \"{:.2f}%\".format(confidence * 100)\n",
    "            y = startY - 10 if startY - 10 > 10 else startY + 10\n",
    "            cv2.rectangle(img, (startX, startY), (endX, endY), (0, 0, 255), 2)\n",
    "            cv2.putText(img, text, (startX, y),\n",
    "                cv2.FONT_HERSHEY_SIMPLEX, 0.45, (0, 0, 255), 2)\n",
    "\n",
    "    cv2.imshow(\"Face Detection\", img)\n",
    "    k = cv2.waitKey(1)&0xff\n",
    "    if k == ord('s'):\n",
    "        cv2.imwrite(\"./output.jpg\", img) # ファイル保存\n",
    "    elif k == ord('q'):\n",
    "        break\n",
    "\n",
    "cap.release()\n",
    "cv2.destroyAllWindows()"
   ]
  },
  {
   "cell_type": "code",
   "execution_count": null,
   "metadata": {},
   "outputs": [],
   "source": []
  }
 ],
 "metadata": {
  "interpreter": {
   "hash": "2563e219f7bbda59ebdecc528971c0ea60f2bd38ddfa9d22f614e26b96c30d36"
  },
  "kernelspec": {
   "display_name": "Python 3.8.12 ('env03_cfe-39tSMQVF')",
   "language": "python",
   "name": "python3"
  },
  "language_info": {
   "codemirror_mode": {
    "name": "ipython",
    "version": 3
   },
   "file_extension": ".py",
   "mimetype": "text/x-python",
   "name": "python",
   "nbconvert_exporter": "python",
   "pygments_lexer": "ipython3",
   "version": "3.8.12"
  },
  "orig_nbformat": 4
 },
 "nbformat": 4,
 "nbformat_minor": 2
}
