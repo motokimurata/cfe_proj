{
 "cells": [
  {
   "cell_type": "code",
   "execution_count": 44,
   "metadata": {},
   "outputs": [],
   "source": [
    "# -*- coding: utf-8 -*-\n",
    "import os\n",
    "import sys\n",
    "import cv2\n",
    "import numpy as np"
   ]
  },
  {
   "cell_type": "code",
   "execution_count": 45,
   "metadata": {},
   "outputs": [],
   "source": [
    "## 画像データのクラスIDとパスを取得\n",
    "#\n",
    "# @param dir_path 検索ディレクトリ\n",
    "# @return data_sets [クラスID, 画像データのパス]のリスト\n",
    "def getDataSet(dir_path):\n",
    "    data_sets = []    \n",
    "\n",
    "    sub_dirs = os.listdir(dir_path)\n",
    "    for classId in sub_dirs:\n",
    "        sub_dir_path = dir_path + '/' + classId\n",
    "        img_files = os.listdir(sub_dir_path)\n",
    "        for f in img_files:\n",
    "            data_sets.append([classId, sub_dir_path + '/' + f])\n",
    "\n",
    "    return data_sets"
   ]
  },
  {
   "cell_type": "code",
   "execution_count": 46,
   "metadata": {},
   "outputs": [],
   "source": [
    "\"\"\"\n",
    "main\n",
    "\"\"\"\n",
    "# 定数定義\n",
    "GRAYSCALE = 0\n",
    "# KAZE特徴量抽出器\n",
    "detector = cv2.KAZE_create()"
   ]
  },
  {
   "cell_type": "code",
   "execution_count": 47,
   "metadata": {},
   "outputs": [
    {
     "name": "stdout",
     "output_type": "stream",
     "text": [
      "train start\n"
     ]
    }
   ],
   "source": [
    "\"\"\"\n",
    "train\n",
    "\"\"\"\n",
    "print(\"train start\")\n",
    "# 訓練データのパスを取得\n",
    "train_set = getDataSet('train_img')\n",
    "# 辞書サイズ\n",
    "dictionarySize = 2\n",
    "# Bag Of Visual Words分類器\n",
    "bowTrainer = cv2.BOWKMeansTrainer(dictionarySize)\n"
   ]
  },
  {
   "cell_type": "code",
   "execution_count": 48,
   "metadata": {},
   "outputs": [
    {
     "name": "stdout",
     "output_type": "stream",
     "text": [
      ".......................................................................................................................................................................train finish\n"
     ]
    }
   ],
   "source": [
    "# 各画像を分析\n",
    "for i, (classId, data_path) in enumerate(train_set):\n",
    "    # 進捗表示\n",
    "    sys.stdout.write(\".\")\n",
    "    # グレースケールで画像読み込み\n",
    "    gray = cv2.imread(data_path, GRAYSCALE)\n",
    "    # 特徴点とその特徴を計算\n",
    "    keypoints, descriptors= detector.detectAndCompute(gray, None)\n",
    "    # intからfloat32に変換\n",
    "    descriptors = descriptors.astype(np.float32)\n",
    "    # 特徴ベクトルをBag Of Visual Words分類器にセット\n",
    "    bowTrainer.add(descriptors)\n",
    "\n",
    "# Bag Of Visual Words分類器で特徴ベクトルを分類\n",
    "codebook = bowTrainer.cluster()\n",
    "# 訓練完了\n",
    "print(\"train finish\")"
   ]
  },
  {
   "cell_type": "code",
   "execution_count": 49,
   "metadata": {},
   "outputs": [
    {
     "name": "stdout",
     "output_type": "stream",
     "text": [
      "test start\n"
     ]
    }
   ],
   "source": [
    "\"\"\"\n",
    "test\n",
    "\"\"\"\n",
    "print(\"test start\")\n",
    "# テストデータのパス取得\n",
    "test_set = getDataSet(\"output\")\n",
    "\n",
    "# KNNを使って総当たりでマッチング\n",
    "matcher = cv2.BFMatcher()\n",
    "\n",
    "# Bag Of Visual Words抽出器\n",
    "bowExtractor = cv2.BOWImgDescriptorExtractor(detector, matcher)\n",
    "# トレーニング結果をセット\n",
    "bowExtractor.setVocabulary(codebook)\n"
   ]
  },
  {
   "cell_type": "code",
   "execution_count": 50,
   "metadata": {},
   "outputs": [
    {
     "name": "stdout",
     "output_type": "stream",
     "text": [
      "expected:  True , actual:  True  => success!!\n",
      "expected:  True , actual:  True  => success!!\n",
      "expected:  True , actual:  True  => success!!\n",
      "expected:  True , actual:  True  => success!!\n",
      "expected:  True , actual:  True  => success!!\n",
      "expected:  True , actual:  True  => success!!\n",
      "expected:  True , actual:  True  => success!!\n"
     ]
    }
   ],
   "source": [
    "# 正しく学習できたか検証する\n",
    "for i, (classId, data_path) in enumerate(test_set):\n",
    "    # グレースケールで読み込み\n",
    "    gray = cv2.imread(data_path, GRAYSCALE)\n",
    "    # 特徴点と特徴ベクトルを計算\n",
    "    keypoints, descriptors= detector.detectAndCompute(gray, None)\n",
    "    # intからfloat32に変換\n",
    "    descriptors = descriptors.astype(np.float32)\n",
    "    # Bag Of Visual Wordsの計算\n",
    "    bowDescriptors = bowExtractor.compute(gray, keypoints)\n",
    "    \n",
    "    # 結果表示\n",
    "    className = {\"0\": \"True\",\n",
    "                    \"1\": \"False\"}\n",
    "\n",
    "    actual = \"???\"    \n",
    "    if bowDescriptors[0][0] > bowDescriptors[0][1]:\n",
    "        actual = className[\"0\"]\n",
    "    elif bowDescriptors[0][0] < bowDescriptors[0][1]:\n",
    "        actual = className[\"1\"]\n",
    "\n",
    "    result = \"\"\n",
    "    if actual == \"???\":\n",
    "        result = \" => unknown.\"\n",
    "    elif className[classId] == actual:\n",
    "        result = \" => success!!\"\n",
    "    else:\n",
    "        result = \" => fail\"\n",
    "\n",
    "    print(\"expected: \", className[classId], \", actual: \", actual, result)\n"
   ]
  },
  {
   "cell_type": "code",
   "execution_count": null,
   "metadata": {},
   "outputs": [],
   "source": []
  }
 ],
 "metadata": {
  "interpreter": {
   "hash": "2563e219f7bbda59ebdecc528971c0ea60f2bd38ddfa9d22f614e26b96c30d36"
  },
  "kernelspec": {
   "display_name": "Python 3.8.12 64-bit ('env03_cfe-39tSMQVF': pipenv)",
   "language": "python",
   "name": "python3"
  },
  "language_info": {
   "codemirror_mode": {
    "name": "ipython",
    "version": 3
   },
   "file_extension": ".py",
   "mimetype": "text/x-python",
   "name": "python",
   "nbconvert_exporter": "python",
   "pygments_lexer": "ipython3",
   "version": "3.8.12"
  },
  "orig_nbformat": 4
 },
 "nbformat": 4,
 "nbformat_minor": 2
}
