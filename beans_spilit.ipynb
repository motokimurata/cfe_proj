{
 "cells": [
  {
   "cell_type": "code",
   "execution_count": 1,
   "metadata": {},
   "outputs": [],
   "source": [
    "import cv2\n",
    "import numpy as np\n",
    "from PIL import Image"
   ]
  },
  {
   "cell_type": "code",
   "execution_count": 2,
   "metadata": {},
   "outputs": [],
   "source": [
    "# 指定した画像(path)の物体を検出し、外接矩形の画像を出力します\n",
    "def detect_contour(path):\n",
    "\n",
    "  # 画像を読込\n",
    "  src = cv2.imread(path, cv2.IMREAD_COLOR)\n",
    "\n",
    "  # グレースケール画像へ変換\n",
    "  gray = cv2.cvtColor(src, cv2.COLOR_BGR2GRAY)\n",
    "\n",
    "  # 2値化\n",
    "  retval, bw = cv2.threshold(gray, 20, 255, cv2.THRESH_BINARY | cv2.THRESH_OTSU)\n",
    "\n",
    "  # 輪郭を抽出\n",
    "  #   contours : [領域][Point No][0][x=0, y=1]\n",
    "  #   cv2.CHAIN_APPROX_NONE: 中間点も保持する\n",
    "  #   cv2.CHAIN_APPROX_SIMPLE: 中間点は保持しない\n",
    "  contours, hierarchy = cv2.findContours(bw, cv2.RETR_LIST, cv2.CHAIN_APPROX_NONE)\n",
    "\n",
    "  # 矩形検出された数（デフォルトで0を指定）\n",
    "  detect_count = 0\n",
    "\n",
    "  # 各輪郭に対する処理\n",
    "  for i in range(0, len(contours)):\n",
    "\n",
    "    # 輪郭の領域を計算\n",
    "    area = cv2.contourArea(contours[i])\n",
    "\n",
    "    # ノイズ（小さすぎる領域）と全体の輪郭（大きすぎる領域）を除外\n",
    "    if area < 1e3 or 1e5 < area:\n",
    "      continue\n",
    "\n",
    "    # 外接矩形\n",
    "    if len(contours[i]) > 0:\n",
    "      rect = contours[i]\n",
    "      x, y, w, h = cv2.boundingRect(rect)\n",
    "      cv2.rectangle(src, (x, y), (x + w, y + h), (0, 255, 0), 2)\n",
    "\n",
    "      # 外接矩形毎に画像を保存\n",
    "      cv2.imwrite('output/phote' + str(detect_count) + '.jpg', src[y:y + h, x:x + w])\n",
    "      img = Image.open('output/phote' + str(detect_count) + '.jpg') #画像サイズを256×256へ変更\n",
    "      img_resize = img.resize((256, 256))\n",
    "      img_resize.save('output/phote' + str(detect_count) + '.jpg')\n",
    "\n",
    "\n",
    "\n",
    "      detect_count = detect_count + 1\n",
    "\n",
    "  cv2.imshow('output', src)\n",
    "  \n",
    "  cv2.waitKey(1)\n",
    "  # 終了処理\n",
    "  cv2.destroyAllWindows()\n",
    "  cv2.waitKey(1)"
   ]
  },
  {
   "cell_type": "code",
   "execution_count": 3,
   "metadata": {},
   "outputs": [],
   "source": [
    "detect_contour('photo/cfe07.jpg')"
   ]
  }
 ],
 "metadata": {
  "interpreter": {
   "hash": "abf6131d9ad03a0e18836c18ca17f8ab0c22686d1b272f7717ce1437b0fe314c"
  },
  "kernelspec": {
   "display_name": "Python 3.8.8 64-bit ('py03env': conda)",
   "name": "python3"
  },
  "language_info": {
   "codemirror_mode": {
    "name": "ipython",
    "version": 3
   },
   "file_extension": ".py",
   "mimetype": "text/x-python",
   "name": "python",
   "nbconvert_exporter": "python",
   "pygments_lexer": "ipython3",
   "version": "3.8.12"
  },
  "orig_nbformat": 4
 },
 "nbformat": 4,
 "nbformat_minor": 2
}
