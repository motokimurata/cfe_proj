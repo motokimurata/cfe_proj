{
 "cells": [
  {
   "cell_type": "code",
   "execution_count": 1,
   "metadata": {},
   "outputs": [
    {
     "name": "stderr",
     "output_type": "stream",
     "text": [
      "[h264 @ 0x5561cb96ae40] co located POCs unavailable\n",
      "[h264 @ 0x5561cb9704c0] co located POCs unavailable\n",
      "[h264 @ 0x5561cba06ec0] error while decoding MB 45 42, bytestream -9\n",
      "[h264 @ 0x5561cba3adc0] error while decoding MB 55 35, bytestream -5\n",
      "[h264 @ 0x5561cb9e9680] co located POCs unavailable\n",
      "[h264 @ 0x5561cb9704c0] error while decoding MB 46 25, bytestream -5\n",
      "[h264 @ 0x5561cb9704c0] co located POCs unavailable\n",
      "[h264 @ 0x5561cb9e9680] left block unavailable for requested intra4x4 mode -1\n",
      "[h264 @ 0x5561cb9e9680] error while decoding MB 0 43, bytestream 941\n",
      "[h264 @ 0x5561cba06ec0] error while decoding MB 59 34, bytestream -5\n",
      "[h264 @ 0x5561cb9704c0] error while decoding MB 71 20, bytestream 64\n",
      "[h264 @ 0x5561cba06ec0] co located POCs unavailable\n",
      "[h264 @ 0x5561cb9e9680] co located POCs unavailable\n"
     ]
    }
   ],
   "source": [
    "import cv2 \n",
    "camera = cv2.VideoCapture('rtsp://192.168.11.12/')             \n",
    " \n",
    "# 撮影＝ループ中にフレームを1枚ずつ取得（qキーで撮影終了）\n",
    "while True:\n",
    "    ret, frame = camera.read()              # フレームを取得\n",
    "    cv2.imshow('camera', frame)             # フレームを画面に表示\n",
    " \n",
    "    # キー操作があればwhileループを抜ける\n",
    "    if cv2.waitKey(1) & 0xFF == ord('q'):\n",
    "        break\n",
    " \n",
    "# 撮影用オブジェクトとウィンドウの解放\n",
    "camera.release()\n",
    "cv2.destroyAllWindows()"
   ]
  }
 ],
 "metadata": {
  "interpreter": {
   "hash": "2563e219f7bbda59ebdecc528971c0ea60f2bd38ddfa9d22f614e26b96c30d36"
  },
  "kernelspec": {
   "display_name": "Python 3.8.12 ('env03_cfe-39tSMQVF')",
   "language": "python",
   "name": "python3"
  },
  "language_info": {
   "codemirror_mode": {
    "name": "ipython",
    "version": 3
   },
   "file_extension": ".py",
   "mimetype": "text/x-python",
   "name": "python",
   "nbconvert_exporter": "python",
   "pygments_lexer": "ipython3",
   "version": "3.8.12"
  },
  "orig_nbformat": 4
 },
 "nbformat": 4,
 "nbformat_minor": 2
}
