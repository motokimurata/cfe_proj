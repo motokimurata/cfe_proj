{
 "cells": [
  {
   "cell_type": "code",
   "execution_count": 4,
   "metadata": {},
   "outputs": [
    {
     "name": "stdout",
     "output_type": "stream",
     "text": [
      "[ 2022-02-13 21:34:48.114288 ] searching any camera...\n",
      "camera_number 0 None\n",
      "camera_number 1 None\n",
      "camera_number 2 None\n",
      "camera_number 3 None\n",
      "camera_number 4 None\n",
      "camera_number 5 None\n",
      "camera_number 6 None\n",
      "camera_number 7 None\n",
      "camera_number 8 None\n",
      "camera_number 9 None\n",
      "接続されているカメラは 0 台です。\n"
     ]
    },
    {
     "name": "stderr",
     "output_type": "stream",
     "text": [
      "[ WARN:0@487.531] global /io/opencv/modules/videoio/src/cap_v4l.cpp (889) open VIDEOIO(V4L2:/dev/video0): can't open camera by index\n",
      "[ WARN:0@487.543] global /io/opencv/modules/videoio/src/cap_v4l.cpp (889) open VIDEOIO(V4L2:/dev/video1): can't open camera by index\n",
      "[ WARN:0@487.547] global /io/opencv/modules/videoio/src/cap_v4l.cpp (889) open VIDEOIO(V4L2:/dev/video2): can't open camera by index\n",
      "[ WARN:0@487.548] global /io/opencv/modules/videoio/src/cap_v4l.cpp (889) open VIDEOIO(V4L2:/dev/video3): can't open camera by index\n",
      "[ WARN:0@487.551] global /io/opencv/modules/videoio/src/cap_v4l.cpp (889) open VIDEOIO(V4L2:/dev/video4): can't open camera by index\n",
      "[ WARN:0@487.554] global /io/opencv/modules/videoio/src/cap_v4l.cpp (889) open VIDEOIO(V4L2:/dev/video5): can't open camera by index\n",
      "[ WARN:0@487.558] global /io/opencv/modules/videoio/src/cap_v4l.cpp (889) open VIDEOIO(V4L2:/dev/video6): can't open camera by index\n",
      "[ WARN:0@487.560] global /io/opencv/modules/videoio/src/cap_v4l.cpp (889) open VIDEOIO(V4L2:/dev/video7): can't open camera by index\n",
      "[ WARN:0@487.563] global /io/opencv/modules/videoio/src/cap_v4l.cpp (889) open VIDEOIO(V4L2:/dev/video8): can't open camera by index\n",
      "[ WARN:0@487.567] global /io/opencv/modules/videoio/src/cap_v4l.cpp (889) open VIDEOIO(V4L2:/dev/video9): can't open camera by index\n"
     ]
    }
   ],
   "source": [
    "import cv2\n",
    "import datetime\n",
    "\n",
    "\n",
    "def check_camera_connection():\n",
    "    \"\"\"\n",
    "    Check the connection between any camera and the PC.\n",
    "\n",
    "    \"\"\"\n",
    "\n",
    "    print('[', datetime.datetime.now(), ']', 'searching any camera...')\n",
    "    true_camera_is = []  # 空の配列を用意\n",
    "\n",
    "    # カメラ番号を0～9まで変えて、COM_PORTに認識されているカメラを探す\n",
    "    for camera_number in range(0, 10):\n",
    "        cap = cv2.VideoCapture(camera_number)\n",
    "        ret, frame = cap.read()\n",
    "\n",
    "        if ret is True:\n",
    "            true_camera_is.append(camera_number)\n",
    "            print(\"camera_number\", camera_number, \"Find!\")\n",
    "\n",
    "        else:\n",
    "            print(\"camera_number\", camera_number, \"None\")\n",
    "    print(\"接続されているカメラは\", len(true_camera_is), \"台です。\")\n",
    "\n",
    "\n",
    "if __name__ == \"__main__\":\n",
    "    check_camera_connection()"
   ]
  }
 ],
 "metadata": {
  "interpreter": {
   "hash": "2563e219f7bbda59ebdecc528971c0ea60f2bd38ddfa9d22f614e26b96c30d36"
  },
  "kernelspec": {
   "display_name": "Python 3.8.12 ('env03_cfe-39tSMQVF')",
   "language": "python",
   "name": "python3"
  },
  "language_info": {
   "codemirror_mode": {
    "name": "ipython",
    "version": 3
   },
   "file_extension": ".py",
   "mimetype": "text/x-python",
   "name": "python",
   "nbconvert_exporter": "python",
   "pygments_lexer": "ipython3",
   "version": "3.8.12"
  },
  "orig_nbformat": 4
 },
 "nbformat": 4,
 "nbformat_minor": 2
}
