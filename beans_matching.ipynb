{
 "cells": [
  {
   "cell_type": "code",
   "execution_count": 15,
   "metadata": {},
   "outputs": [],
   "source": [
    "# -*- coding: utf-8 -*-\n",
    "import os\n",
    "import sys\n",
    "import cv2\n",
    "import numpy as np\n",
    "import tkinter, tkinter.filedialog, tkinter.messagebox\n",
    "from split_beans import detect_contour"
   ]
  },
  {
   "cell_type": "code",
   "execution_count": 16,
   "metadata": {},
   "outputs": [],
   "source": [
    "def getDataSet(dir_path):\n",
    "    data_sets = []    \n",
    "\n",
    "    sub_dirs = os.listdir(dir_path)\n",
    "    for classId in sub_dirs:\n",
    "        sub_dir_path = dir_path + '/' + classId\n",
    "        img_files = os.listdir(sub_dir_path)\n",
    "        for f in img_files:\n",
    "            data_sets.append([classId, sub_dir_path + '/' + f])\n",
    "\n",
    "    return data_sets\n"
   ]
  },
  {
   "cell_type": "code",
   "execution_count": 17,
   "metadata": {},
   "outputs": [
    {
     "name": "stdout",
     "output_type": "stream",
     "text": [
      "photo get start\n",
      "photo get finish\n"
     ]
    }
   ],
   "source": [
    "\"\"\"\n",
    "photo_get\n",
    "\"\"\"\n",
    "print(\"photo get start\")\n",
    "\n",
    "\n",
    "# ファイル選択ダイアログの表示\n",
    "root = tkinter.Tk()\n",
    "root.withdraw()\n",
    "\n",
    "# ここの1行を変更　fTyp = [(\"\",\"*\")] →　fTyp = [(\"\",\"*.csv\")]\n",
    "fTyp = [(\"\",\"*.jpg\")]\n",
    "curdir = os.getcwd()\n",
    "iDir = curdir + '/photo'\n",
    "file = tkinter.filedialog.askopenfilename(filetypes = fTyp ,initialdir = iDir)\n",
    "\n",
    "detect_contour(file) # spilit_beans.pyの実行\n",
    "print(\"photo get finish\")"
   ]
  },
  {
   "cell_type": "code",
   "execution_count": 18,
   "metadata": {},
   "outputs": [
    {
     "name": "stdout",
     "output_type": "stream",
     "text": [
      "test start\n"
     ]
    }
   ],
   "source": [
    "codebook = np.load('bean_traning.npy')\n",
    "\n",
    "\"\"\"\n",
    "test\n",
    "\"\"\"\n",
    "print(\"test start\")\n",
    "# テストデータのパス取得\n",
    "test_set = getDataSet(\"output\")\n"
   ]
  },
  {
   "cell_type": "code",
   "execution_count": 19,
   "metadata": {},
   "outputs": [],
   "source": [
    "\n",
    "# KNNを使って総当たりでマッチング\n",
    "matcher = cv2.BFMatcher()\n",
    "detector = cv2.KAZE_create()\n",
    "# 定数定義\n",
    "GRAYSCALE = 0\n",
    "\n",
    "# Bag Of Visual Words抽出器\n",
    "bowExtractor = cv2.BOWImgDescriptorExtractor(detector, matcher)\n",
    "# トレーニング結果をセット\n",
    "bowExtractor.setVocabulary(codebook)"
   ]
  },
  {
   "cell_type": "code",
   "execution_count": 21,
   "metadata": {},
   "outputs": [
    {
     "name": "stdout",
     "output_type": "stream",
     "text": [
      "expected:  True , actual:  True  => success!!\n",
      "expected:  True , actual:  True  => success!!\n",
      "expected:  True , actual:  True  => success!!\n",
      "expected:  True , actual:  True  => success!!\n",
      "expected:  True , actual:  True  => success!!\n",
      "expected:  True , actual:  True  => success!!\n",
      "expected:  True , actual:  True  => success!!\n",
      "expected:  True , actual:  True  => success!!\n",
      "expected:  True , actual:  True  => success!!\n",
      "expected:  True , actual:  True  => success!!\n",
      "expected:  True , actual:  True  => success!!\n",
      "expected:  True , actual:  True  => success!!\n",
      "expected:  True , actual:  True  => success!!\n",
      "expected:  True , actual:  False  => fail\n",
      "expected:  True , actual:  True  => success!!\n",
      "expected:  True , actual:  True  => success!!\n",
      "expected:  True , actual:  False  => fail\n",
      "expected:  True , actual:  True  => success!!\n",
      "expected:  True , actual:  True  => success!!\n",
      "expected:  True , actual:  True  => success!!\n",
      "expected:  True , actual:  True  => success!!\n",
      "expected:  True , actual:  True  => success!!\n",
      "expected:  True , actual:  True  => success!!\n",
      "expected:  True , actual:  True  => success!!\n",
      "expected:  True , actual:  True  => success!!\n",
      "expected:  True , actual:  True  => success!!\n",
      "expected:  True , actual:  True  => success!!\n",
      "expected:  True , actual:  True  => success!!\n",
      "expected:  True , actual:  True  => success!!\n",
      "expected:  True , actual:  True  => success!!\n",
      "expected:  True , actual:  True  => success!!\n",
      "expected:  True , actual:  True  => success!!\n",
      "expected:  True , actual:  True  => success!!\n",
      "expected:  True , actual:  True  => success!!\n",
      "expected:  True , actual:  True  => success!!\n",
      "expected:  True , actual:  True  => success!!\n",
      "expected:  True , actual:  True  => success!!\n",
      "expected:  True , actual:  True  => success!!\n",
      "expected:  True , actual:  True  => success!!\n",
      "expected:  True , actual:  True  => success!!\n",
      "expected:  True , actual:  True  => success!!\n",
      "expected:  True , actual:  True  => success!!\n",
      "expected:  True , actual:  True  => success!!\n",
      "expected:  True , actual:  True  => success!!\n",
      "expected:  True , actual:  True  => success!!\n",
      "expected:  True , actual:  True  => success!!\n",
      "expected:  True , actual:  True  => success!!\n",
      "expected:  True , actual:  True  => success!!\n",
      "expected:  True , actual:  True  => success!!\n",
      "expected:  True , actual:  True  => success!!\n",
      "expected:  True , actual:  ???  => unknown.\n",
      "expected:  True , actual:  True  => success!!\n",
      "expected:  True , actual:  True  => success!!\n",
      "expected:  True , actual:  True  => success!!\n",
      "expected:  True , actual:  True  => success!!\n",
      "expected:  True , actual:  True  => success!!\n",
      "expected:  True , actual:  True  => success!!\n",
      "expected:  True , actual:  True  => success!!\n",
      "expected:  True , actual:  True  => success!!\n",
      "expected:  True , actual:  False  => fail\n",
      "expected:  True , actual:  True  => success!!\n",
      "expected:  True , actual:  True  => success!!\n",
      "expected:  True , actual:  True  => success!!\n",
      "expected:  True , actual:  True  => success!!\n",
      "expected:  True , actual:  True  => success!!\n",
      "expected:  True , actual:  True  => success!!\n",
      "expected:  True , actual:  True  => success!!\n",
      "expected:  True , actual:  True  => success!!\n",
      "expected:  True , actual:  True  => success!!\n",
      "expected:  True , actual:  True  => success!!\n",
      "expected:  True , actual:  False  => fail\n",
      "expected:  True , actual:  ???  => unknown.\n",
      "expected:  True , actual:  True  => success!!\n",
      "expected:  True , actual:  True  => success!!\n",
      "expected:  True , actual:  True  => success!!\n",
      "expected:  True , actual:  True  => success!!\n",
      "expected:  True , actual:  True  => success!!\n",
      "expected:  True , actual:  True  => success!!\n",
      "expected:  True , actual:  True  => success!!\n",
      "expected:  True , actual:  True  => success!!\n",
      "expected:  True , actual:  False  => fail\n",
      "expected:  True , actual:  True  => success!!\n",
      "expected:  True , actual:  True  => success!!\n",
      "expected:  True , actual:  False  => fail\n",
      "expected:  True , actual:  True  => success!!\n",
      "expected:  True , actual:  True  => success!!\n",
      "expected:  True , actual:  True  => success!!\n",
      "expected:  True , actual:  True  => success!!\n",
      "expected:  True , actual:  True  => success!!\n",
      "expected:  True , actual:  True  => success!!\n",
      "expected:  True , actual:  True  => success!!\n",
      "expected:  True , actual:  True  => success!!\n",
      "expected:  True , actual:  True  => success!!\n",
      "expected:  True , actual:  True  => success!!\n",
      "expected:  True , actual:  True  => success!!\n",
      "expected:  True , actual:  True  => success!!\n",
      "expected:  True , actual:  True  => success!!\n"
     ]
    }
   ],
   "source": [
    "# 正しく学習できたか検証する\n",
    "for i, (classId, data_path) in enumerate(test_set):\n",
    "    # グレースケールで読み込み\n",
    "    gray = cv2.imread(data_path, GRAYSCALE)\n",
    "    # 特徴点と特徴ベクトルを計算\n",
    "    keypoints, descriptors= detector.detectAndCompute(gray, None)\n",
    "    # intからfloat32に変換\n",
    "    descriptors = descriptors.astype(np.float32)\n",
    "    # Bag Of Visual Wordsの計算\n",
    "    bowDescriptors = bowExtractor.compute(gray, keypoints)\n",
    "    \n",
    "    # 結果表示\n",
    "    className = {\"0\": \"True\",\n",
    "                    \"1\": \"False\"}\n",
    "\n",
    "    actual = \"???\"    \n",
    "    if bowDescriptors[0][0] > bowDescriptors[0][1]:\n",
    "        actual = className[\"0\"]\n",
    "    elif bowDescriptors[0][0] < bowDescriptors[0][1]:\n",
    "        actual = className[\"1\"]\n",
    "\n",
    "    result = \"\"\n",
    "    if actual == \"???\":\n",
    "        result = \" => unknown.\"\n",
    "    elif className[classId] == actual:\n",
    "        result = \" => success!!\"\n",
    "    else:\n",
    "        result = \" => fail\"\n",
    "\n",
    "    print(\"expected: \", className[classId], \", actual: \", actual, result)\n"
   ]
  }
 ],
 "metadata": {
  "interpreter": {
   "hash": "2563e219f7bbda59ebdecc528971c0ea60f2bd38ddfa9d22f614e26b96c30d36"
  },
  "kernelspec": {
   "display_name": "Python 3.8.12 64-bit ('env03_cfe-39tSMQVF': pipenv)",
   "language": "python",
   "name": "python3"
  },
  "language_info": {
   "codemirror_mode": {
    "name": "ipython",
    "version": 3
   },
   "file_extension": ".py",
   "mimetype": "text/x-python",
   "name": "python",
   "nbconvert_exporter": "python",
   "pygments_lexer": "ipython3",
   "version": "3.8.12"
  },
  "orig_nbformat": 4
 },
 "nbformat": 4,
 "nbformat_minor": 2
}
